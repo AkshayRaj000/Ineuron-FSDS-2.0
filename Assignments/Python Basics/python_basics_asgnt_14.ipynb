{
 "cells": [
  {
   "attachments": {},
   "cell_type": "markdown",
   "metadata": {},
   "source": [
    "# Python Basics | Assignment 14"
   ]
  },
  {
   "attachments": {},
   "cell_type": "markdown",
   "metadata": {},
   "source": [
    "[Questions](https://drive.google.com/file/d/12LKGc367_TZkauqpPF-V1LPAmVRQbWri/view)"
   ]
  },
  {
   "attachments": {},
   "cell_type": "markdown",
   "metadata": {},
   "source": [
    "### Q 1 | Ans: "
   ]
  },
  {
   "cell_type": "markdown",
   "metadata": {},
   "source": [
    "RGBA stands for Red Green Blue Alpha, and it is a color model used to represent colors in digital images. The alpha channel represents the level of opacity or transparency of the color."
   ]
  },
  {
   "attachments": {},
   "cell_type": "markdown",
   "metadata": {},
   "source": [
    "### Q 2 | Ans: "
   ]
  },
  {
   "cell_type": "code",
   "execution_count": 1,
   "metadata": {},
   "outputs": [
    {
     "data": {
      "text/plain": [
       "(255, 0, 0, 255)"
      ]
     },
     "execution_count": 1,
     "metadata": {},
     "output_type": "execute_result"
    }
   ],
   "source": [
    "from PIL import ImageColor\n",
    "# Get the rgba value for given color\n",
    "ImageColor.getcolor('RED', 'RGBA')"
   ]
  },
  {
   "cell_type": "code",
   "execution_count": 5,
   "metadata": {},
   "outputs": [
    {
     "ename": "IndexError",
     "evalue": "image index out of range",
     "output_type": "error",
     "traceback": [
      "\u001b[1;31m---------------------------------------------------------------------------\u001b[0m",
      "\u001b[1;31mIndexError\u001b[0m                                Traceback (most recent call last)",
      "\u001b[1;32mc:\\Users\\91892\\Desktop\\iNeuron FSDS - 2.0\\Assignments\\Python Basics\\python_basics_asgnt_14.ipynb Cell 7\u001b[0m line \u001b[0;36m4\n\u001b[0;32m      <a href='vscode-notebook-cell:/c%3A/Users/91892/Desktop/iNeuron%20FSDS%20-%202.0/Assignments/Python%20Basics/python_basics_asgnt_14.ipynb#W6sZmlsZQ%3D%3D?line=1'>2</a>\u001b[0m image \u001b[39m=\u001b[39m Image\u001b[39m.\u001b[39mopen(\u001b[39m'\u001b[39m\u001b[39mimage.jpeg\u001b[39m\u001b[39m'\u001b[39m)\n\u001b[0;32m      <a href='vscode-notebook-cell:/c%3A/Users/91892/Desktop/iNeuron%20FSDS%20-%202.0/Assignments/Python%20Basics/python_basics_asgnt_14.ipynb#W6sZmlsZQ%3D%3D?line=2'>3</a>\u001b[0m \u001b[39m# Get the RGBA value of the pixel at position (x=100, y=200)\u001b[39;00m\n\u001b[1;32m----> <a href='vscode-notebook-cell:/c%3A/Users/91892/Desktop/iNeuron%20FSDS%20-%202.0/Assignments/Python%20Basics/python_basics_asgnt_14.ipynb#W6sZmlsZQ%3D%3D?line=3'>4</a>\u001b[0m rgba_value \u001b[39m=\u001b[39m image\u001b[39m.\u001b[39;49mgetpixel((\u001b[39m100\u001b[39;49m, \u001b[39m200\u001b[39;49m))\n\u001b[0;32m      <a href='vscode-notebook-cell:/c%3A/Users/91892/Desktop/iNeuron%20FSDS%20-%202.0/Assignments/Python%20Basics/python_basics_asgnt_14.ipynb#W6sZmlsZQ%3D%3D?line=4'>5</a>\u001b[0m \u001b[39mprint\u001b[39m(rgba_value)\n",
      "File \u001b[1;32mc:\\Users\\91892\\AppData\\Local\\Programs\\Python\\Python39\\lib\\site-packages\\PIL\\Image.py:1369\u001b[0m, in \u001b[0;36mImage.getpixel\u001b[1;34m(self, xy)\u001b[0m\n\u001b[0;32m   1367\u001b[0m \u001b[39mif\u001b[39;00m \u001b[39mself\u001b[39m\u001b[39m.\u001b[39mpyaccess:\n\u001b[0;32m   1368\u001b[0m     \u001b[39mreturn\u001b[39;00m \u001b[39mself\u001b[39m\u001b[39m.\u001b[39mpyaccess\u001b[39m.\u001b[39mgetpixel(xy)\n\u001b[1;32m-> 1369\u001b[0m \u001b[39mreturn\u001b[39;00m \u001b[39mself\u001b[39;49m\u001b[39m.\u001b[39;49mim\u001b[39m.\u001b[39;49mgetpixel(xy)\n",
      "\u001b[1;31mIndexError\u001b[0m: image index out of range"
     ]
    }
   ],
   "source": [
    "from PIL import Image\n",
    "image = Image.open('image.jpeg')\n",
    "# Get the RGBA value of the pixel at position (x=100, y=200)\n",
    "rgba_value = image.getpixel((100, 200))\n",
    "print(rgba_value)"
   ]
  },
  {
   "attachments": {},
   "cell_type": "markdown",
   "metadata": {},
   "source": [
    "### Q 3 | Ans: "
   ]
  },
  {
   "attachments": {},
   "cell_type": "markdown",
   "metadata": {},
   "source": [
    "box tuple is a tuple of four integers that represents a rectangular region in an image. The four integers in the tuple represent the left, upper, right, and lower coordinates of the rectangle, respectively."
   ]
  },
  {
   "cell_type": "code",
   "execution_count": 6,
   "metadata": {},
   "outputs": [],
   "source": [
    "# (left, upper, right, lower)\n",
    "from PIL import Image\n",
    "\n",
    "\n",
    "image = Image.open('image.jpeg')\n",
    "\n",
    "# Define the region to crop using a box tuple\n",
    "box = (100, 100, 300, 300)\n",
    "cropped_image = image.crop(box)\n",
    "cropped_image.show()\n"
   ]
  },
  {
   "attachments": {},
   "cell_type": "markdown",
   "metadata": {},
   "source": [
    "### Q 4 | Ans: "
   ]
  },
  {
   "cell_type": "code",
   "execution_count": 7,
   "metadata": {},
   "outputs": [
    {
     "data": {
      "text/plain": [
       "(36, 31)"
      ]
     },
     "execution_count": 7,
     "metadata": {},
     "output_type": "execute_result"
    }
   ],
   "source": [
    "from PIL import Image\n",
    "image = Image.open(\"image.jpeg\")\n",
    "image.size"
   ]
  },
  {
   "attachments": {},
   "cell_type": "markdown",
   "metadata": {},
   "source": [
    "### Q 5 | Ans: "
   ]
  },
  {
   "cell_type": "code",
   "execution_count": 2,
   "metadata": {},
   "outputs": [],
   "source": [
    "from PIL import Image\n",
    "\n",
    "image = Image.open(\"image.jpeg\")\n",
    "box = (50, 0, 100, 50)\n",
    "cropped_image = image.crop(box)\n",
    "\n",
    "cropped_image.show()\n"
   ]
  },
  {
   "attachments": {},
   "cell_type": "markdown",
   "metadata": {},
   "source": [
    "### Q 6 | Ans: "
   ]
  },
  {
   "cell_type": "code",
   "execution_count": 4,
   "metadata": {},
   "outputs": [],
   "source": [
    "from PIL import Image\n",
    "\n",
    "\n",
    "image = Image.open(\"image.jpeg\")\n",
    "box = (50, 0, 100, 50)\n",
    "cropped_image = image.crop(box)\n",
    "\n",
    "# Save the modified image to a file\n",
    "image.save(\"modified_image.jpeg\", format=\"JPEG\")\n",
    "cropped_image.show()\n",
    "\n"
   ]
  },
  {
   "attachments": {},
   "cell_type": "markdown",
   "metadata": {},
   "source": [
    "### Q 7 | Ans: \n"
   ]
  },
  {
   "attachments": {},
   "cell_type": "markdown",
   "metadata": {},
   "source": [
    "Pillow's shape-drawing code is contained in the ImageDraw module, which is part of the Pillow library. The ImageDraw module provides methods for drawing various shapes, such as lines, rectangles, ellipses, and polygons, on Image objects."
   ]
  },
  {
   "cell_type": "markdown",
   "metadata": {},
   "source": [
    "### Q 8 | Ans: "
   ]
  },
  {
   "cell_type": "markdown",
   "metadata": {},
   "source": [
    "To create an ImageDraw object, you can call the ImageDraw.Draw() method and pass in an Image object as an argument. This creates an ImageDraw object that is associated with the input Image object, and allows you to draw shapes and text directly on the image."
   ]
  },
  {
   "attachments": {},
   "cell_type": "markdown",
   "metadata": {},
   "source": []
  },
  {
   "cell_type": "markdown",
   "metadata": {},
   "source": []
  }
 ],
 "metadata": {
  "kernelspec": {
   "display_name": "Python 3",
   "language": "python",
   "name": "python3"
  },
  "language_info": {
   "codemirror_mode": {
    "name": "ipython",
    "version": 3
   },
   "file_extension": ".py",
   "mimetype": "text/x-python",
   "name": "python",
   "nbconvert_exporter": "python",
   "pygments_lexer": "ipython3",
   "version": "3.9.2"
  },
  "orig_nbformat": 4
 },
 "nbformat": 4,
 "nbformat_minor": 2
}
