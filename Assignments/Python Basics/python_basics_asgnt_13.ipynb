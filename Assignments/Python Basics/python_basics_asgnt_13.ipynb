{
 "cells": [
  {
   "attachments": {},
   "cell_type": "markdown",
   "metadata": {},
   "source": [
    "# Python Basics | Assignment 13"
   ]
  },
  {
   "attachments": {},
   "cell_type": "markdown",
   "metadata": {},
   "source": [
    "[Questions](https://drive.google.com/file/d/1V6TCzn-Gq1lw25m9cPOIRJx4dDE7LBZV/view)"
   ]
  },
  {
   "attachments": {},
   "cell_type": "markdown",
   "metadata": {},
   "source": [
    "### Q 1 | Ans: "
   ]
  },
  {
   "attachments": {},
   "cell_type": "markdown",
   "metadata": {},
   "source": [
    "Excel spreadsheets have more features and tools than CSV spreadsheets, such as formatting options, built-in formulas and functions, chart and graph creation, data validation, and macros. These features make Excel more powerful for data analysis, reporting, and management. However, CSV files are simpler and more widely supported, which can make them more flexible and portable in certain situations."
   ]
  },
  {
   "attachments": {},
   "cell_type": "markdown",
   "metadata": {},
   "source": [
    "### Q 2 | Ans:"
   ]
  },
  {
   "attachments": {},
   "cell_type": "markdown",
   "metadata": {},
   "source": [
    "To create a writer object in the csv module, you need to pass a **file object** and a list of fieldnames (optional) to the `csv.writer()` function. The file object can be created using the built-in `open()` function with the `\"w\"` mode to open the file for writing"
   ]
  },
  {
   "cell_type": "code",
   "execution_count": 1,
   "metadata": {},
   "outputs": [],
   "source": [
    "import csv\n",
    "\n",
    "with open('demo.csv', 'w', newline='') as file:\n",
    "    writer = csv.writer(file)\n",
    "    writer.writerow(['Name', 'Age', 'Country'])\n",
    "    writer.writerow(['Akshay', 25, 'India'])\n",
    "    writer.writerow(['Manas', 23, 'USA'])\n"
   ]
  },
  {
   "attachments": {},
   "cell_type": "markdown",
   "metadata": {},
   "source": [
    "To create a reader object in the csv module in Python, you need to pass a **file object** containing the CSV data to the csv.reader() function."
   ]
  },
  {
   "cell_type": "code",
   "execution_count": 2,
   "metadata": {},
   "outputs": [
    {
     "name": "stdout",
     "output_type": "stream",
     "text": [
      "['Name', 'Age', 'Country']\n",
      "['Akshay', '25', 'India']\n",
      "['Manas', '23', 'USA']\n"
     ]
    }
   ],
   "source": [
    "import csv\n",
    "\n",
    "with open('demo.csv', 'r') as file:\n",
    "    reader = csv.reader(file)\n",
    "    for i in reader:\n",
    "        print(i)\n"
   ]
  },
  {
   "attachments": {},
   "cell_type": "markdown",
   "metadata": {},
   "source": [
    "### Q 3 | Ans: "
   ]
  },
  {
   "attachments": {},
   "cell_type": "markdown",
   "metadata": {},
   "source": [
    "The file object used to create a `csv.reader()` should be opened in `'r'` mode `(read mode)`, and the file object used to create a `csv.writer()` should be opened in `'w'` mode (write mode)."
   ]
  },
  {
   "attachments": {},
   "cell_type": "markdown",
   "metadata": {},
   "source": [
    "### Q 4 | Ans: "
   ]
  },
  {
   "attachments": {},
   "cell_type": "markdown",
   "metadata": {},
   "source": [
    "By using `file_obj.writerow()` we can create a csv file from give list. "
   ]
  },
  {
   "cell_type": "code",
   "execution_count": 3,
   "metadata": {},
   "outputs": [],
   "source": [
    "import csv\n",
    "data = [['Name', 'Age', 'Country'], ['Akshay', 25, 'India'], ['Manas', 23, 'USA']]\n",
    "with open('demo2.csv', 'w', newline='') as file:\n",
    "    writer = csv.writer(file)\n",
    "    for i in range(len(data)):\n",
    "        writer.writerow(data[i])"
   ]
  },
  {
   "cell_type": "markdown",
   "metadata": {},
   "source": [
    "### Q 5 | Ans: "
   ]
  },
  {
   "attachments": {},
   "cell_type": "markdown",
   "metadata": {},
   "source": [
    "The delimiter argument specifies the character that separates individual fields within a row. By default, the delimiter is a comma `(,)`, but it can be changed to any other character, such as a tab `(\\t)`, a pipe `(|)`, or a semicolon `(;)`, depending on the format of the CSV file."
   ]
  },
  {
   "cell_type": "code",
   "execution_count": 4,
   "metadata": {},
   "outputs": [],
   "source": [
    "import csv\n",
    "data = [['Name', 'Age', 'Country'], ['Akshay', 25, 'India'], ['Manas', 23, 'USA']]\n",
    "with open('demo3.csv', 'w', newline='') as file:\n",
    "    writer = csv.writer(file, delimiter='|')\n",
    "    for i in range(len(data)):\n",
    "        writer.writerow(data[i])"
   ]
  },
  {
   "attachments": {
    "image.png": {
     "image/png": "[encoded data removed]"
    }
   },
   "cell_type": "markdown",
   "metadata": {},
   "source": [
    "![image.png](attachment:image.png)"
   ]
  },
  {
   "attachments": {},
   "cell_type": "markdown",
   "metadata": {},
   "source": [
    "The lineterminator argument specifies the character that marks the end of a row in the CSV file. By default, the line terminator is the newline character `(\\n)`, but it can be changed to any other character, such as a carriage return `(\\r)` or a combination of characters."
   ]
  },
  {
   "cell_type": "code",
   "execution_count": 5,
   "metadata": {},
   "outputs": [],
   "source": [
    "import csv\n",
    "data = [['Name', 'Age', 'Country'], ['Akshay', 25, 'India'], ['Manas', 23, 'USA']]\n",
    "with open('demo4.csv', 'w', newline='') as file:\n",
    "    writer = csv.writer(file, lineterminator='\\r')\n",
    "    for i in range(len(data)):\n",
    "        writer.writerow(data[i])"
   ]
  },
  {
   "attachments": {},
   "cell_type": "markdown",
   "metadata": {},
   "source": [
    "### Q 6 | Ans: "
   ]
  },
  {
   "attachments": {},
   "cell_type": "markdown",
   "metadata": {},
   "source": [
    "The `json.loads()` function in Python takes a string of JSON data and converts it into a corresponding Python data structure. \n"
   ]
  },
  {
   "cell_type": "code",
   "execution_count": 6,
   "metadata": {},
   "outputs": [
    {
     "name": "stdout",
     "output_type": "stream",
     "text": [
      "[1, 2, 3, 4, 5, 6, 7, 8, 9]\n"
     ]
    },
    {
     "data": {
      "text/plain": [
       "list"
      ]
     },
     "execution_count": 6,
     "metadata": {},
     "output_type": "execute_result"
    }
   ],
   "source": [
    "import json\n",
    "\n",
    "json_data = '{\"name\": \"Nikita\", \"age\": 25, \"country\": \"Canada\"}'\n",
    "json_data = '[1, 2, 3, 4, 5, 6, 7, 8, 9]'\n",
    "python_data = json.loads(json_data)\n",
    "\n",
    "print(python_data)\n",
    "type(python_data)\n"
   ]
  },
  {
   "attachments": {},
   "cell_type": "markdown",
   "metadata": {},
   "source": [
    "### Q 7 | Ans: "
   ]
  },
  {
   "attachments": {},
   "cell_type": "markdown",
   "metadata": {},
   "source": [
    "The `json.dumps()` function in Python takes a Python data structure and converts it into a corresponding string of JSON data. "
   ]
  },
  {
   "cell_type": "code",
   "execution_count": 7,
   "metadata": {},
   "outputs": [
    {
     "name": "stdout",
     "output_type": "stream",
     "text": [
      "{\"name\": \"Nikita\", \"age\": 25, \"country\": \"Canada\"}\n",
      "<class 'str'>\n"
     ]
    }
   ],
   "source": [
    "import json\n",
    "\n",
    "python_data = {'name': 'Nikita', 'age': 25, 'country': 'Canada'}\n",
    "\n",
    "json_data = json.dumps(python_data)\n",
    "\n",
    "print(json_data)\n",
    "print(type(json_data))\n"
   ]
  },
  {
   "attachments": {},
   "cell_type": "markdown",
   "metadata": {},
   "source": []
  },
  {
   "cell_type": "markdown",
   "metadata": {},
   "source": []
  }
 ],
 "metadata": {
  "kernelspec": {
   "display_name": "Python 3",
   "language": "python",
   "name": "python3"
  },
  "language_info": {
   "codemirror_mode": {
    "name": "ipython",
    "version": 3
   },
   "file_extension": ".py",
   "mimetype": "text/x-python",
   "name": "python",
   "nbconvert_exporter": "python",
   "pygments_lexer": "ipython3",
   "version": "3.9.2"
  },
  "orig_nbformat": 4
 },
 "nbformat": 4,
 "nbformat_minor": 2
}
