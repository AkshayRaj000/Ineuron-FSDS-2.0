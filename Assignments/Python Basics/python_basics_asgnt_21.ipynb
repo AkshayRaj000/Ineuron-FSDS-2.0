{
 "cells": [
  {
   "attachments": {},
   "cell_type": "markdown",
   "metadata": {},
   "source": [
    "# Python Basic | Assignment 21"
   ]
  },
  {
   "attachments": {},
   "cell_type": "markdown",
   "metadata": {},
   "source": [
    "Link to [Questions](https://drive.google.com/file/d/1b2jWpoy7ve89SkAgkOYYvwK6Cew0aphY/view) "
   ]
  },
  {
   "attachments": {},
   "cell_type": "markdown",
   "metadata": {},
   "source": [
    "### Q 1 | Ans:"
   ]
  },
  {
   "attachments": {},
   "cell_type": "markdown",
   "metadata": {},
   "source": [
    "Add the current date to the text file today.txt as a string."
   ]
  },
  {
   "cell_type": "code",
   "execution_count": 1,
   "metadata": {},
   "outputs": [],
   "source": [
    "from datetime import datetime,date\n",
    "  \n",
    "filename = date.today()\n",
    "\n",
    "with open(\"today.txt\", \"w\") as file:\n",
    "    file.write(str(date.today()))"
   ]
  },
  {
   "attachments": {},
   "cell_type": "markdown",
   "metadata": {},
   "source": [
    "### Q 2 | Ans:"
   ]
  },
  {
   "attachments": {},
   "cell_type": "markdown",
   "metadata": {},
   "source": [
    "Read the text file today.txt into the string today_string"
   ]
  },
  {
   "cell_type": "code",
   "execution_count": 2,
   "metadata": {},
   "outputs": [
    {
     "name": "stdout",
     "output_type": "stream",
     "text": [
      "2023-10-13\n"
     ]
    }
   ],
   "source": [
    "with open('today.txt', 'r') as file:\n",
    "    today_string = file.read()\n",
    "    print(today_string)"
   ]
  },
  {
   "attachments": {},
   "cell_type": "markdown",
   "metadata": {},
   "source": [
    "### Q 3 | Ans:"
   ]
  },
  {
   "attachments": {},
   "cell_type": "markdown",
   "metadata": {},
   "source": [
    "Parse the date from today_string."
   ]
  },
  {
   "cell_type": "code",
   "execution_count": 3,
   "metadata": {},
   "outputs": [
    {
     "data": {
      "text/plain": [
       "datetime.datetime(2023, 10, 13, 0, 0)"
      ]
     },
     "execution_count": 3,
     "metadata": {},
     "output_type": "execute_result"
    }
   ],
   "source": [
    "datetime.strptime(today_string,\"%Y-%m-%d\")"
   ]
  },
  {
   "attachments": {},
   "cell_type": "markdown",
   "metadata": {},
   "source": [
    "### Q 4 | Ans:"
   ]
  },
  {
   "attachments": {},
   "cell_type": "markdown",
   "metadata": {},
   "source": [
    "List the files in your current directory"
   ]
  },
  {
   "cell_type": "code",
   "execution_count": 4,
   "metadata": {},
   "outputs": [
    {
     "data": {
      "text/plain": [
       "'c:\\\\Users\\\\91892\\\\Desktop\\\\iNeuron FSDS - 2.0\\\\Assignments\\\\Python Basics'"
      ]
     },
     "execution_count": 4,
     "metadata": {},
     "output_type": "execute_result"
    }
   ],
   "source": [
    "pwd"
   ]
  },
  {
   "cell_type": "code",
   "execution_count": 5,
   "metadata": {},
   "outputs": [
    {
     "data": {
      "text/plain": [
       "['Auto.docx',\n",
       " 'books.csv',\n",
       " 'books.db',\n",
       " 'decrypted-pdf.pdf',\n",
       " 'demo.csv',\n",
       " 'demo2.csv',\n",
       " 'demo3.csv',\n",
       " 'demo4.csv',\n",
       " 'encrypted-pdf.pdf',\n",
       " 'error.log',\n",
       " 'hellothere.docx',\n",
       " 'image.jpeg',\n",
       " 'modified_image.jpeg',\n",
       " 'PBA20_redis.ipynb',\n",
       " 'PBA21_time.ipynb',\n",
       " 'PBA22_Prog.ipynb',\n",
       " 'PBA23_Prog.ipynb',\n",
       " 'PBA24_lambda_fun.ipynb',\n",
       " 'PBA25_list_comp.ipynb',\n",
       " 'python_basics_asgnt_01.ipynb',\n",
       " 'python_basics_asgnt_02.ipynb',\n",
       " 'python_basics_asgnt_03.ipynb',\n",
       " 'python_basics_asgnt_04.ipynb',\n",
       " 'python_basics_asgnt_05.ipynb',\n",
       " 'python_basics_asgnt_06.ipynb',\n",
       " 'python_basics_asgnt_07.ipynb',\n",
       " 'python_basics_asgnt_08.ipynb',\n",
       " 'python_basics_asgnt_09.ipynb',\n",
       " 'python_basics_asgnt_10.ipynb',\n",
       " 'python_basics_asgnt_11.ipynb',\n",
       " 'python_basics_asgnt_12.ipynb',\n",
       " 'python_basics_asgnt_13.ipynb',\n",
       " 'python_basics_asgnt_14.ipynb',\n",
       " 'python_basics_asgnt_15.ipynb',\n",
       " 'python_basics_asgnt_16.ipynb',\n",
       " 'python_basics_asgnt_17.ipynb',\n",
       " 'python_basics_asgnt_18.ipynb',\n",
       " 'python_basics_asgnt_19.ipynb',\n",
       " 'sample_pdf_5pages.pdf',\n",
       " 'sample_rotated.pdf',\n",
       " 'test.txt',\n",
       " 'today.txt']"
      ]
     },
     "execution_count": 5,
     "metadata": {},
     "output_type": "execute_result"
    }
   ],
   "source": [
    "import os \n",
    "os.listdir()"
   ]
  },
  {
   "attachments": {},
   "cell_type": "markdown",
   "metadata": {},
   "source": [
    "### Q 5 | Ans:"
   ]
  },
  {
   "attachments": {},
   "cell_type": "markdown",
   "metadata": {},
   "source": [
    "Create a list of all of the files in your parent directory (minimum five files should be available)."
   ]
  },
  {
   "cell_type": "code",
   "execution_count": 6,
   "metadata": {},
   "outputs": [
    {
     "name": "stdout",
     "output_type": "stream",
     "text": [
      "Present Directory c:\\Users\\91892\\Desktop\\iNeuron FSDS - 2.0\\Assignments\\Python Basics\n",
      "c:\\Users\\91892\\Desktop\\iNeuron FSDS - 2.0\\Assignments\n"
     ]
    },
    {
     "data": {
      "text/plain": [
       "['Python Basics', 'Python Programming']"
      ]
     },
     "execution_count": 6,
     "metadata": {},
     "output_type": "execute_result"
    }
   ],
   "source": [
    "import os \n",
    "  \n",
    "# current directory \n",
    "current_dir = os.getcwd() \n",
    "print(\"Present Directory\", current_dir) \n",
    "  \n",
    "# parent directory \n",
    "parent_dir = os.path.abspath(os.path.join(current_dir, os.pardir))\n",
    "dir_path = parent_dir\n",
    "print(parent_dir)\n",
    "os.listdir(parent_dir)\n"
   ]
  },
  {
   "cell_type": "code",
   "execution_count": 7,
   "metadata": {},
   "outputs": [],
   "source": [
    "os.chdir(dir_path)\n",
    "lis = [\"a\", \"b\", \"c\", \"d\", \"e\"]\n",
    "for i in lis:\n",
    "    with open(f\"{i}.txt\", \"w\") as f:\n",
    "        f.write(\"Demo file for assignment PBA 21\")"
   ]
  },
  {
   "cell_type": "code",
   "execution_count": 8,
   "metadata": {},
   "outputs": [
    {
     "name": "stdout",
     "output_type": "stream",
     "text": [
      "['a.txt', 'b.txt', 'c.txt', 'd.txt', 'e.txt']\n"
     ]
    }
   ],
   "source": [
    "res = []\n",
    "\n",
    "for path in os.listdir(dir_path):\n",
    "    \n",
    "    if os.path.isfile(os.path.join(dir_path, path)):\n",
    "        res.append(path)\n",
    "print(res)"
   ]
  },
  {
   "attachments": {},
   "cell_type": "markdown",
   "metadata": {},
   "source": [
    "### Q 6 | Ans:"
   ]
  },
  {
   "attachments": {},
   "cell_type": "markdown",
   "metadata": {},
   "source": [
    "Use multiprocessing to create three separate processes. Make each one wait a random number of\n",
    "seconds between one and five, print the current time, and then exit."
   ]
  },
  {
   "cell_type": "code",
   "execution_count": 9,
   "metadata": {},
   "outputs": [
    {
     "name": "stdout",
     "output_type": "stream",
     "text": [
      "Process MainProcess waited for 1 seconds and printed at 22:26:15\n",
      "Process MainProcess waited for 1 seconds and printed at 22:26:17\n",
      "Process MainProcess waited for 2 seconds and printed at 22:26:19\n"
     ]
    }
   ],
   "source": [
    "import multiprocessing\n",
    "import random\n",
    "import time\n",
    "from datetime import datetime\n",
    "\n",
    "def wait_and_print():\n",
    "    wait_time = random.randint(1, 5)\n",
    "    time.sleep(wait_time)\n",
    "    current_time = datetime.now().strftime(\"%H:%M:%S\")\n",
    "    print(f\"Process {multiprocessing.current_process().name} waited for {wait_time} seconds and printed at {current_time}\")\n",
    "\n",
    "if __name__ == '__main__':\n",
    "    processes = []\n",
    "    for i in range(3):\n",
    "        p = multiprocessing.Process(target=wait_and_print(), name=f\"Process-{i+1}\")\n",
    "        processes.append(p)\n",
    "        p.start()\n",
    "\n",
    "    for p in processes:\n",
    "        p.join()\n"
   ]
  },
  {
   "attachments": {},
   "cell_type": "markdown",
   "metadata": {},
   "source": [
    "### Q 7 | Ans:"
   ]
  },
  {
   "attachments": {},
   "cell_type": "markdown",
   "metadata": {},
   "source": [
    "Create a date object of your day of birth."
   ]
  },
  {
   "cell_type": "code",
   "execution_count": 10,
   "metadata": {},
   "outputs": [
    {
     "name": "stdout",
     "output_type": "stream",
     "text": [
      "1999-09-24\n"
     ]
    }
   ],
   "source": [
    "import datetime\n",
    "\n",
    "d = datetime.date(1999,9, 24)\n",
    "print(d)"
   ]
  },
  {
   "attachments": {},
   "cell_type": "markdown",
   "metadata": {},
   "source": [
    "### Q 8 | Ans:"
   ]
  },
  {
   "cell_type": "markdown",
   "metadata": {},
   "source": [
    "What day of the week was your day of birth?"
   ]
  },
  {
   "cell_type": "code",
   "execution_count": 11,
   "metadata": {},
   "outputs": [
    {
     "data": {
      "text/plain": [
       "'1999-09-24'"
      ]
     },
     "execution_count": 11,
     "metadata": {},
     "output_type": "execute_result"
    }
   ],
   "source": [
    "d = str(d)\n",
    "d"
   ]
  },
  {
   "cell_type": "code",
   "execution_count": 12,
   "metadata": {},
   "outputs": [
    {
     "name": "stdout",
     "output_type": "stream",
     "text": [
      "Friday\n"
     ]
    }
   ],
   "source": [
    "# Python program to Find day of\n",
    "# the week for a given date\n",
    "import datetime\n",
    "import calendar\n",
    "\n",
    "def findDay(date):\n",
    "\tborn = datetime.datetime.strptime(date, '%Y-%m-%d').weekday()\n",
    "\treturn (calendar.day_name[born])\n",
    "\n",
    "# Driver program\n",
    "\n",
    "\n",
    "print(findDay(d))\n"
   ]
  },
  {
   "attachments": {},
   "cell_type": "markdown",
   "metadata": {},
   "source": [
    "### Q 9 | Ans:"
   ]
  },
  {
   "attachments": {},
   "cell_type": "markdown",
   "metadata": {},
   "source": [
    "When will you be (or when were you) 10,000 days old?"
   ]
  },
  {
   "cell_type": "code",
   "execution_count": 13,
   "metadata": {},
   "outputs": [
    {
     "name": "stdout",
     "output_type": "stream",
     "text": [
      "You will be 10,000 days old on 2018-02-09\n"
     ]
    }
   ],
   "source": [
    "import datetime\n",
    "\n",
    "birthdate = datetime.date(1990, 9, 24)\n",
    "\n",
    "# Calculate the date when you will be (or were) 10,000 days old\n",
    "ten_thousand_days = datetime.timedelta(days=10000)\n",
    "ten_thousand_days_old_date = birthdate + ten_thousand_days\n",
    "\n",
    "print(f\"You will be 10,000 days old on {ten_thousand_days_old_date}\")\n"
   ]
  }
 ],
 "metadata": {
  "kernelspec": {
   "display_name": "Python 3",
   "language": "python",
   "name": "python3"
  },
  "language_info": {
   "codemirror_mode": {
    "name": "ipython",
    "version": 3
   },
   "file_extension": ".py",
   "mimetype": "text/x-python",
   "name": "python",
   "nbconvert_exporter": "python",
   "pygments_lexer": "ipython3",
   "version": "3.9.2"
  },
  "orig_nbformat": 4
 },
 "nbformat": 4,
 "nbformat_minor": 2
}
