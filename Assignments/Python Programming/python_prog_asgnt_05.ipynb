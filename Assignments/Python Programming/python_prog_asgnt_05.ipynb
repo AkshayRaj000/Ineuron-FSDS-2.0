{
 "cells": [
  {
   "attachments": {},
   "cell_type": "markdown",
   "metadata": {},
   "source": [
    "# Python Programming Assignment 5"
   ]
  },
  {
   "attachments": {},
   "cell_type": "markdown",
   "metadata": {},
   "source": [
    "Link to [Questions](https://drive.google.com/file/d/1vjQLzHf3Cyr_pGAys0icHA_NcnHHlQ3e/view) "
   ]
  },
  {
   "attachments": {},
   "cell_type": "markdown",
   "metadata": {},
   "source": [
    "1. Write a Python Program to Find LCM?\n",
    "2. Write a Python Program to Find HCF?\n",
    "3. Write a Python Program to Convert Decimal to Binary, Octal and Hexadecimal?\n",
    "4. Write a Python Program To Find ASCII value of a character?\n",
    "5. Write a Python Program to Make a Simple Calculator with 4 basic mathematical operations?"
   ]
  },
  {
   "attachments": {},
   "cell_type": "markdown",
   "metadata": {},
   "source": [
    "### Q 1 | Ans:"
   ]
  },
  {
   "attachments": {},
   "cell_type": "markdown",
   "metadata": {},
   "source": [
    "LCM stands for Least Common Multiple. It is the smallest positive integer that is a multiple of two or more given numbers. In other words, it is the smallest number that is divisible by all the given numbers."
   ]
  },
  {
   "cell_type": "code",
   "execution_count": 1,
   "metadata": {},
   "outputs": [
    {
     "name": "stdout",
     "output_type": "stream",
     "text": [
      "[15, 30, 45, 60, 75, 90, 105, 120, 135, 150, 165, 180, 195, 210, 225, 240, 255, 270, 285, 300, 315, 330, 345, 360, 375, 390, 405, 420, 435, 450, 465, 480, 495, 510, 525, 540, 555, 570, 585, 600, 615, 630, 645, 660, 675, 690, 705, 720, 735, 750, 765, 780, 795, 810, 825, 840, 855, 870, 885, 900, 915, 930, 945, 960, 975, 990, 1005, 1020, 1035, 1050, 1065, 1080, 1095, 1110, 1125, 1140, 1155, 1170, 1185, 1200, 1215, 1230, 1245, 1260, 1275, 1290, 1305, 1320, 1335, 1350, 1365, 1380, 1395, 1410, 1425, 1440, 1455, 1470, 1485]\n",
      "[45, 90, 135, 180, 225, 270, 315, 360, 405, 450, 495, 540, 585, 630, 675, 720, 765, 810, 855, 900, 945, 990, 1035, 1080, 1125, 1170, 1215, 1260, 1305, 1350, 1395, 1440, 1485, 1530, 1575, 1620, 1665, 1710, 1755, 1800, 1845, 1890, 1935, 1980, 2025, 2070, 2115, 2160, 2205, 2250, 2295, 2340, 2385, 2430, 2475, 2520, 2565, 2610, 2655, 2700, 2745, 2790, 2835, 2880, 2925, 2970, 3015, 3060, 3105, 3150, 3195, 3240, 3285, 3330, 3375, 3420, 3465, 3510, 3555, 3600, 3645, 3690, 3735, 3780, 3825, 3870, 3915, 3960, 4005, 4050, 4095, 4140, 4185, 4230, 4275, 4320, 4365, 4410, 4455]\n",
      "45\n"
     ]
    }
   ],
   "source": [
    "# To find LCM:\n",
    "\n",
    "def union_list(list_1, list_2):\n",
    "    # new_list = []\n",
    "    for i in range(len(list_1)):\n",
    "        if list_1[i] in list_2:\n",
    "            return print(list_1[i])\n",
    "            # new_list.append(list_1[i])\n",
    "    # return new_list       \n",
    "\n",
    "\n",
    "def lcm(a, b):\n",
    "    # new_list = [expression for item in iterable if condition]\n",
    "    list_1 = [a * i for i in range(1, 100)]\n",
    "    print(list_1)\n",
    "    list_2 = [b * i for i in range(1, 100)]\n",
    "    print(list_2)\n",
    "    #new_list = union_list(list_1, list_2)\n",
    "    # print(new_list[0])\n",
    "    return union_list(list_1, list_2)\n",
    "\n",
    "lcm(15, 45) "
   ]
  },
  {
   "cell_type": "code",
   "execution_count": 2,
   "metadata": {},
   "outputs": [
    {
     "name": "stdout",
     "output_type": "stream",
     "text": [
      "12\n"
     ]
    }
   ],
   "source": [
    "# Better approach:\n",
    "\n",
    "def gcd(a, b):\n",
    "    \"\"\"\n",
    "    Returns the GCD of two integers a and b using the Euclidean algorithm.\n",
    "    \"\"\"\n",
    "    if b == 0:\n",
    "        return a\n",
    "    else:\n",
    "        return gcd(b, a % b)\n",
    "\n",
    "def lcm(a, b):\n",
    "    return a * b // gcd(a, b)\n",
    "\n",
    "print(lcm(4,6))"
   ]
  },
  {
   "attachments": {},
   "cell_type": "markdown",
   "metadata": {},
   "source": [
    "### Q 2 | Ans:"
   ]
  },
  {
   "cell_type": "code",
   "execution_count": 3,
   "metadata": {},
   "outputs": [],
   "source": [
    "# To Find HCF:\n",
    "# HCF aka GCD :)\n",
    "def gcd(a, b):\n",
    "    \"\"\"\n",
    "    Returns the GCD of two integers a and b using the Euclidean algorithm.\n",
    "    \"\"\"\n",
    "    if b == 0:\n",
    "        return a\n",
    "    else:\n",
    "        return gcd(b, a % b)"
   ]
  },
  {
   "cell_type": "code",
   "execution_count": 5,
   "metadata": {},
   "outputs": [
    {
     "data": {
      "text/plain": [
       "1"
      ]
     },
     "execution_count": 5,
     "metadata": {},
     "output_type": "execute_result"
    }
   ],
   "source": [
    "6 % 5"
   ]
  },
  {
   "attachments": {},
   "cell_type": "markdown",
   "metadata": {},
   "source": [
    "### Q 3 | Ans:"
   ]
  },
  {
   "cell_type": "code",
   "execution_count": 8,
   "metadata": {},
   "outputs": [
    {
     "name": "stdout",
     "output_type": "stream",
     "text": [
      "Binary representation of 43 is 0b101011\n",
      "Octal representation of 43 is 0o53\n",
      "Hexadecimal representation of 43 is 0x2b\n"
     ]
    }
   ],
   "source": [
    "decimal_number = 43\n",
    "\n",
    "# decimal to binary:\n",
    "binary_number = bin(decimal_number)\n",
    "print(\"Binary representation of\", decimal_number, \"is\", binary_number)\n",
    "\n",
    "# decimal to octal:\n",
    "octal_number = oct(decimal_number)\n",
    "print(\"Octal representation of\", decimal_number, \"is\", octal_number)\n",
    "\n",
    "# decimal to hexadecimal:\n",
    "hexadecimal_number = hex(decimal_number)\n",
    "print(\"Hexadecimal representation of\", decimal_number, \"is\", hexadecimal_number)\n"
   ]
  },
  {
   "attachments": {},
   "cell_type": "markdown",
   "metadata": {},
   "source": [
    "### Q 4 | Ans:"
   ]
  },
  {
   "cell_type": "code",
   "execution_count": 10,
   "metadata": {},
   "outputs": [
    {
     "name": "stdout",
     "output_type": "stream",
     "text": [
      "97\n"
     ]
    }
   ],
   "source": [
    "# To get ASCII value:\n",
    "\n",
    "def get_ascii_value(char):\n",
    "    return ord(char)\n",
    "\n",
    "print(get_ascii_value('a'))"
   ]
  },
  {
   "attachments": {},
   "cell_type": "markdown",
   "metadata": {},
   "source": [
    "### Q 5 | Ans:"
   ]
  },
  {
   "cell_type": "code",
   "execution_count": 11,
   "metadata": {},
   "outputs": [
    {
     "data": {
      "text/plain": [
       "78"
      ]
     },
     "execution_count": 11,
     "metadata": {},
     "output_type": "execute_result"
    }
   ],
   "source": [
    "# Program for Simple Math Calculator:\n",
    "\n",
    "\n",
    "def simple_math_calculator(a, b, act):\n",
    "    if act == 'summation':\n",
    "        return a + b\n",
    "    elif act =='subtraction':\n",
    "        return a - b\n",
    "    elif act == 'division':\n",
    "        return a / b\n",
    "    elif act =='multiplication':\n",
    "            return a * b\n",
    "\n",
    "simple_math_calculator(35, 43, 'summation')"
   ]
  }
 ],
 "metadata": {
  "kernelspec": {
   "display_name": "Python 3",
   "language": "python",
   "name": "python3"
  },
  "language_info": {
   "codemirror_mode": {
    "name": "ipython",
    "version": 3
   },
   "file_extension": ".py",
   "mimetype": "text/x-python",
   "name": "python",
   "nbconvert_exporter": "python",
   "pygments_lexer": "ipython3",
   "version": "3.9.2"
  },
  "orig_nbformat": 4
 },
 "nbformat": 4,
 "nbformat_minor": 2
}
